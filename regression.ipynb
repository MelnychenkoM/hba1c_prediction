{
 "cells": [
  {
   "cell_type": "code",
   "execution_count": 1,
   "id": "8f4ef5e8-ab0f-47fc-a5e3-22b87ede05fe",
   "metadata": {},
   "outputs": [],
   "source": [
    "import pandas as pd\n",
    "import numpy as np\n",
    "import matplotlib.pyplot as plt\n",
    "import matplotlib as mpl\n",
    "import seaborn as sns\n",
    "import plotly.graph_objects as go\n",
    "from scipy.signal import find_peaks, savgol_filter, detrend\n",
    "from scipy.stats import pearsonr"
   ]
  },
  {
   "cell_type": "code",
   "execution_count": 2,
   "id": "2aa3e829-0adc-46db-ab30-09c87f796f13",
   "metadata": {},
   "outputs": [],
   "source": [
    "from sklearn.linear_model import LinearRegression\n",
    "from sklearn.metrics import r2_score, mean_squared_error, accuracy_score\n",
    "from tools.analysis import *\n",
    "from tools.outliers import MonteCarloOutliers\n",
    "from sklearn.preprocessing import KBinsDiscretizer\n",
    "from sklearn.cross_decomposition import PLSRegression\n",
    "from sklearn.model_selection import cross_val_predict, train_test_split\n",
    "from sklearn.utils import shuffle"
   ]
  },
  {
   "cell_type": "code",
   "execution_count": 3,
   "id": "488f17bc-115b-463e-9a42-0284685ad398",
   "metadata": {},
   "outputs": [],
   "source": [
    "mpl.use('pgf')\n",
    "mpl.rcParams.update({\n",
    "    \"pgf.texsystem\": \"pdflatex\",  # Use pdflatex for rendering\n",
    "    'font.family': 'serif',       # Use serif font family\n",
    "    'text.usetex': True,          # Use LaTeX for text rendering\n",
    "    'pgf.rcfonts': False,         # Don't setup fonts from rc params\n",
    "    'pgf.preamble': r'\\usepackage{amsmath,amsfonts,amssymb}\\usepackage[T2A,T1]{fontenc}\\usepackage[utf8]{inputenc}\\usepackage[ukrainian]{babel}',  # Use Ukrainian Cyrillic font\n",
    "    'font.size': 10               # Set font size\n",
    "})"
   ]
  },
  {
   "cell_type": "code",
   "execution_count": 4,
   "id": "a42fc01b-5256-417d-a75f-3a6fe6fefd05",
   "metadata": {},
   "outputs": [],
   "source": [
    "from boxsers.preprocessing import rubberband_baseline_cor"
   ]
  },
  {
   "cell_type": "code",
   "execution_count": 5,
   "id": "a3e84769-b088-4e44-9b7f-3982406c7461",
   "metadata": {},
   "outputs": [],
   "source": [
    "def corr_plot(X, y):\n",
    "    r, p_val = pearsonr(X, y)\n",
    "    \n",
    "    model = LinearRegression()\n",
    "    model.fit(X.reshape(-1, 1), y)\n",
    "    \n",
    "    x_range = np.linspace(min(X), max(X))\n",
    "    predicted = model.predict(x_range.reshape(-1, 1))\n",
    "    \n",
    "    if p_val < 0.00001:\n",
    "        text = f\"$R = {r:.3f}$\\n$p < 0.00001$\\n$y = {model.coef_[0]:.5f}x + {model.intercept_:.5f}$\"\n",
    "    else:\n",
    "        text = f\"$R = {r:.3f}$\\n$p = {p_val:.5f}$\\n$y = {model.coef_[0]:.5f}x + {model.intercept_:.5f}$\"\n",
    "        \n",
    "    plt.scatter(X, y, facecolor='w', edgecolor='k')\n",
    "    plt.plot(x_range, predicted, color='r', linewidth=1.5)\n",
    "    plt.xlabel(\"$y_1$\")\n",
    "    plt.ylabel(\"$y_2$\")\n",
    "\n",
    "    x_offset = (max(X) - min(X)) * 0.02\n",
    "    y_offset = (max(y) - min(y)) * 0.02\n",
    "    text_x = min(X)\n",
    "    text_y = max(y)\n",
    "\n",
    "    print(text)\n",
    "    \n",
    "    plt.text(text_x, text_y, text, verticalalignment='top')"
   ]
  },
  {
   "cell_type": "code",
   "execution_count": 6,
   "id": "099338ef-a997-4c0e-90df-9082e664bd07",
   "metadata": {},
   "outputs": [],
   "source": [
    "def detrend_spectrum(spectrum, order):\n",
    "    x = np.arange(len(spectrum))\n",
    "    p = np.polyfit(x, spectrum, order)\n",
    "    baseline = np.polyval(p, x)\n",
    "    return spectrum - baseline"
   ]
  },
  {
   "cell_type": "code",
   "execution_count": 7,
   "id": "f8e018ed-9165-4baa-a222-021161b77aa2",
   "metadata": {},
   "outputs": [
    {
     "name": "stdout",
     "output_type": "stream",
     "text": [
      "294\n"
     ]
    },
    {
     "data": {
      "text/plain": [
       "<Axes: >"
      ]
     },
     "execution_count": 7,
     "metadata": {},
     "output_type": "execute_result"
    }
   ],
   "source": [
    "df = pd.read_csv('data/dataset.csv')\n",
    "domain = pd.read_csv('data/domain.csv')\n",
    "domain = np.ravel(domain)\n",
    "\n",
    "#df = df[df['HbA1c'] < 10]\n",
    "max_abs = df.drop(columns=['HbA1c', 'years']).apply(lambda row: True if row.max() > 0.3 else False, axis=1)\n",
    "df = df[max_abs]\n",
    "#df = df[df['HbA1c'] < 12]\n",
    "print(len(df))\n",
    "\n",
    "X = df.drop(columns=['HbA1c', 'years'])\n",
    "y = df['HbA1c']\n",
    "years = df['years']\n",
    "X.columns = np.ravel(domain)\n",
    "\n",
    "#X = X.T.apply(lambda col: np.ravel(rubberband_baseline_cor(col))).T\n",
    "#X = X.apply(lambda row: row / np.linalg.norm(row), axis=1)\n",
    "#X = X.apply(lambda row: (row - row.mean()) / row.std(), axis=1)\n",
    "X = X.T.apply(lambda col: savgol_filter(col, window_length=55, polyorder=2, deriv=1)).T\n",
    "#X = X.apply(lambda row: (row - row.mean()) / row.std(), axis=1)\n",
    "X = X.apply(lambda row: detrend_spectrum(row, 1), axis=1)\n",
    "#X = X.apply(lambda row: row / np.linalg.norm(row), axis=1)\n",
    "#X = X.apply(lambda row: row / max(row.iloc[1000:]), axis=1)\n",
    "#X.T.plot(legend=False)\n",
    "X.T.plot(legend=False)"
   ]
  },
  {
   "cell_type": "code",
   "execution_count": 8,
   "id": "de9f3875-845f-4176-89e3-6d1611c9f0ba",
   "metadata": {},
   "outputs": [],
   "source": [
    "plt.figure(figsize=(6.5, 4))\n",
    "plt.plot(X.mean(axis=0), color='k', linewidth=1.3)\n",
    "plt.xlim([400, 4000])\n",
    "plt.xlabel(\"Хвильове число\")\n",
    "plt.ylabel(\"Поглинання\")\n",
    "plt.savefig(\"figures/first_derivative_ftir.pgf\")"
   ]
  },
  {
   "cell_type": "code",
   "execution_count": 9,
   "id": "1bf574d5-f2ca-4365-b937-12939a6ac4e9",
   "metadata": {},
   "outputs": [
    {
     "name": "stdout",
     "output_type": "stream",
     "text": [
      "┌───────────────────────────┐\n",
      "│        FIT RESULTS        │\n",
      "├───────────────────────────┤\n",
      "│ RMSE = 1.0077             │\n",
      "│ R2 = 0.7178               │\n",
      "│ R = 0.8508                │\n",
      "│ Number of components = 12 │\n",
      "└───────────────────────────┘\n"
     ]
    }
   ],
   "source": [
    "discretizer = KBinsDiscretizer(n_bins=5, encode='ordinal', strategy='uniform', subsample=None, random_state=24)\n",
    "categories = discretizer.fit_transform(y.to_numpy().reshape(-1, 1))\n",
    "\n",
    "X_train, X_test, y_train, y_test = train_test_split(X.iloc[:, 1250:2700], y, test_size=0.3, stratify=categories, random_state=44)\n",
    "\n",
    "fig, axs = plot_number_components(X_train, y_train, cv=10)\n",
    "fig.set_size_inches(6.5, 6.5)\n",
    "axs[0, 0].set_xlabel(\"Кількість компонент\")\n",
    "axs[0, 1].set_xlabel(\"Кількість компонент\")\n",
    "axs[0, 1].set_ylabel(\"PRESS\")\n",
    "axs[1, 0].set_xlabel(\"HbA1c виміряне\")\n",
    "axs[1, 0].set_ylabel(\"HbA1c передбачене\")\n",
    "axs[1, 1].set_xlabel(\"Зразок\")\n",
    "axs[1, 1].set_ylabel(\"Залишок\")\n",
    "plt.subplots_adjust(bottom=0.12)\n",
    "fig.savefig(\"figures/training.pgf\")"
   ]
  },
  {
   "cell_type": "code",
   "execution_count": 10,
   "id": "e59b5dca-ef4d-4590-8bae-d2b7da33c6a3",
   "metadata": {},
   "outputs": [],
   "source": [
    "pls = PLSRegression(n_components=5)\n",
    "pls.fit(X_train, y_train)\n",
    "y_pred = pls.predict(X_test)\n",
    "fig, axs = plsr_r2_plot(y_test, y_pred)\n",
    "fig.set_size_inches(4, 3)\n",
    "axs.set_xlabel(\"HbA1c виміряне\")\n",
    "axs.set_ylabel(\"HbA1c передбачене\")\n",
    "plt.subplots_adjust(bottom=0.13)\n",
    "fig.savefig(\"figures/validation.pgf\")"
   ]
  },
  {
   "cell_type": "code",
   "execution_count": 11,
   "id": "9a59dd3e-15b9-477c-840d-1b14ddc02a9e",
   "metadata": {},
   "outputs": [
    {
     "data": {
      "text/plain": [
       "Text(20.833291666666668, 0.5, 'regression coefficient')"
      ]
     },
     "execution_count": 11,
     "metadata": {},
     "output_type": "execute_result"
    }
   ],
   "source": [
    "plt.plot(np.ravel(domain)[1250:2700], pls.coef_[0], color='k', linewidth=1.5)\n",
    "plt.axhline(y=0, color='k', linestyle='--')\n",
    "plt.xlabel(\"wavenumber\")\n",
    "plt.ylabel(\"regression coefficient\")"
   ]
  },
  {
   "cell_type": "code",
   "execution_count": 12,
   "id": "e5272172-e564-415a-b901-feb9c8da7b93",
   "metadata": {},
   "outputs": [
    {
     "data": {
      "text/plain": [
       "242    0.0\n",
       "138    0.0\n",
       "384    1.0\n",
       "53     0.0\n",
       "27     1.0\n",
       "      ... \n",
       "379    1.0\n",
       "114    0.0\n",
       "451    1.0\n",
       "118    0.0\n",
       "256    0.0\n",
       "Name: HbA1c, Length: 89, dtype: float64"
      ]
     },
     "execution_count": 12,
     "metadata": {},
     "output_type": "execute_result"
    }
   ],
   "source": [
    "db = y_test.copy()\n",
    "db[y_test >= 6.5] = 1\n",
    "db[y_test < 6.5] = 0\n",
    "db"
   ]
  },
  {
   "cell_type": "code",
   "execution_count": 13,
   "id": "cc03b27e-cdab-4b4f-af9f-4743a78f684c",
   "metadata": {},
   "outputs": [
    {
     "data": {
      "text/plain": [
       "array([0., 0., 1., 0., 1., 0., 0., 1., 0., 0., 0., 0., 0., 0., 0., 0., 0.,\n",
       "       0., 0., 0., 0., 0., 1., 1., 0., 0., 0., 0., 0., 0., 0., 0., 1., 1.,\n",
       "       1., 1., 0., 1., 1., 1., 0., 1., 0., 1., 1., 0., 0., 0., 0., 0., 0.,\n",
       "       1., 0., 1., 0., 1., 1., 0., 1., 1., 0., 0., 0., 0., 0., 0., 1., 1.,\n",
       "       1., 1., 0., 0., 1., 0., 0., 0., 1., 0., 0., 0., 0., 0., 0., 1., 1.,\n",
       "       0., 1., 0., 0.])"
      ]
     },
     "execution_count": 13,
     "metadata": {},
     "output_type": "execute_result"
    }
   ],
   "source": [
    "db_pred = y_pred.copy()\n",
    "db_pred[y_pred >= 6.5] = 1\n",
    "db_pred[y_pred < 6.5] = 0\n",
    "db_pred"
   ]
  },
  {
   "cell_type": "code",
   "execution_count": 14,
   "id": "be95bc38-9a47-4e85-bf16-fb69854777bb",
   "metadata": {},
   "outputs": [
    {
     "data": {
      "text/plain": [
       "0.9213483146067416"
      ]
     },
     "execution_count": 14,
     "metadata": {},
     "output_type": "execute_result"
    }
   ],
   "source": [
    "accuracy_score(db, db_pred)"
   ]
  },
  {
   "cell_type": "code",
   "execution_count": null,
   "id": "a5ffc6d1-9e6a-499d-a726-99ef0e6621d5",
   "metadata": {},
   "outputs": [],
   "source": []
  }
 ],
 "metadata": {
  "kernelspec": {
   "display_name": "Python 3 (ipykernel)",
   "language": "python",
   "name": "python3"
  },
  "language_info": {
   "codemirror_mode": {
    "name": "ipython",
    "version": 3
   },
   "file_extension": ".py",
   "mimetype": "text/x-python",
   "name": "python",
   "nbconvert_exporter": "python",
   "pygments_lexer": "ipython3",
   "version": "3.9.19"
  }
 },
 "nbformat": 4,
 "nbformat_minor": 5
}

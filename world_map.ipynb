{
 "cells": [
  {
   "cell_type": "code",
   "execution_count": 1,
   "id": "a846ef6b-230a-41d7-960e-9e6e1444c2cb",
   "metadata": {},
   "outputs": [],
   "source": [
    "import matplotlib.patches as mpatches\n",
    "import matplotlib.pyplot as plt\n",
    "import seaborn as sns\n",
    "import geopandas as gpd\n",
    "import pandas as pd\n",
    "import numpy as np\n",
    "import matplotlib as mpl\n",
    "from mpl_toolkits.mplot3d import Axes3D"
   ]
  },
  {
   "cell_type": "code",
   "execution_count": 2,
   "id": "b53d448b-f7a1-4b9c-a149-6e3249def588",
   "metadata": {},
   "outputs": [],
   "source": [
    "# mpl.use('pgf')\n",
    "# mpl.rcParams.update({\n",
    "#     \"pgf.texsystem\": \"pdflatex\",  # Use pdflatex for rendering\n",
    "#     'font.family': 'serif',       # Use serif font family\n",
    "#     'text.usetex': True,          # Use LaTeX for text rendering\n",
    "#     'pgf.rcfonts': False,         # Don't setup fonts from rc params\n",
    "#     'pgf.preamble': r'\\usepackage{amsmath,amsfonts,amssymb}\\usepackage[T2A,T1]{fontenc}\\usepackage[utf8]{inputenc}\\usepackage[ukrainian]{babel}',  # Use Ukrainian Cyrillic font\n",
    "#     'font.size': 10               # Set font size\n",
    "# })"
   ]
  },
  {
   "cell_type": "code",
   "execution_count": 3,
   "id": "8a667c44-a33f-4a73-ad8b-b7a34aa7d0f8",
   "metadata": {},
   "outputs": [
    {
     "name": "stderr",
     "output_type": "stream",
     "text": [
      "C:\\Users\\games\\AppData\\Local\\Temp\\ipykernel_19452\\3912264495.py:1: FutureWarning: The geopandas.dataset module is deprecated and will be removed in GeoPandas 1.0. You can get the original 'naturalearth_lowres' data from https://www.naturalearthdata.com/downloads/110m-cultural-vectors/.\n",
      "  world = gpd.read_file(gpd.datasets.get_path(\"naturalearth_lowres\"))\n"
     ]
    }
   ],
   "source": [
    "world = gpd.read_file(gpd.datasets.get_path(\"naturalearth_lowres\"))"
   ]
  },
  {
   "cell_type": "code",
   "execution_count": 4,
   "id": "9e9672c0-86d3-4923-84e7-3e9b042032c7",
   "metadata": {},
   "outputs": [
    {
     "data": {
      "text/plain": [
       "[]"
      ]
     },
     "execution_count": 4,
     "metadata": {},
     "output_type": "execute_result"
    }
   ],
   "source": [
    "fig = plt.figure(figsize=(6, 5))\n",
    "ax = fig.add_subplot()\n",
    "\n",
    "world.plot(\n",
    "    ax=ax,\n",
    "    color=\"lightgray\",\n",
    "    edgecolor=\"black\",\n",
    "    alpha=0.5\n",
    ")\n",
    "\n",
    "ax.set_xticks([])\n",
    "ax.set_yticks([])"
   ]
  },
  {
   "cell_type": "code",
   "execution_count": 5,
   "id": "48c430fe-0d6b-4bde-af06-219e38f1bb1c",
   "metadata": {},
   "outputs": [],
   "source": [
    "country_data = pd.read_csv('data/NCD_RisC_Lancet_2016_DM_crude_countries.csv')\n",
    "country_data = country_data[country_data['Year'] == 2014]"
   ]
  },
  {
   "cell_type": "code",
   "execution_count": 6,
   "id": "cfdaa2af-bf0e-4d7e-869c-ff15a5937577",
   "metadata": {},
   "outputs": [
    {
     "data": {
      "text/html": [
       "<div>\n",
       "<style scoped>\n",
       "    .dataframe tbody tr th:only-of-type {\n",
       "        vertical-align: middle;\n",
       "    }\n",
       "\n",
       "    .dataframe tbody tr th {\n",
       "        vertical-align: top;\n",
       "    }\n",
       "\n",
       "    .dataframe thead th {\n",
       "        text-align: right;\n",
       "    }\n",
       "</style>\n",
       "<table border=\"1\" class=\"dataframe\">\n",
       "  <thead>\n",
       "    <tr style=\"text-align: right;\">\n",
       "      <th></th>\n",
       "      <th>pop_est</th>\n",
       "      <th>continent</th>\n",
       "      <th>name</th>\n",
       "      <th>iso_a3</th>\n",
       "      <th>gdp_md_est</th>\n",
       "      <th>geometry</th>\n",
       "    </tr>\n",
       "  </thead>\n",
       "  <tbody>\n",
       "    <tr>\n",
       "      <th>112</th>\n",
       "      <td>44385155.0</td>\n",
       "      <td>Europe</td>\n",
       "      <td>Ukraine</td>\n",
       "      <td>UKR</td>\n",
       "      <td>153781</td>\n",
       "      <td>POLYGON ((32.15944 52.06125, 32.41206 52.28869...</td>\n",
       "    </tr>\n",
       "  </tbody>\n",
       "</table>\n",
       "</div>"
      ],
      "text/plain": [
       "        pop_est continent     name iso_a3  gdp_md_est  \\\n",
       "112  44385155.0    Europe  Ukraine    UKR      153781   \n",
       "\n",
       "                                              geometry  \n",
       "112  POLYGON ((32.15944 52.06125, 32.41206 52.28869...  "
      ]
     },
     "execution_count": 6,
     "metadata": {},
     "output_type": "execute_result"
    }
   ],
   "source": [
    "world[world['name'] == 'Ukraine']"
   ]
  },
  {
   "cell_type": "code",
   "execution_count": 7,
   "id": "a906a766-b9e2-4731-8991-e4cf634330e2",
   "metadata": {},
   "outputs": [
    {
     "data": {
      "text/plain": [
       "array(['Fiji', 'Tanzania', 'W. Sahara', 'Canada',\n",
       "       'United States of America', 'Kazakhstan', 'Uzbekistan',\n",
       "       'Papua New Guinea', 'Indonesia', 'Argentina', 'Chile',\n",
       "       'Dem. Rep. Congo', 'Somalia', 'Kenya', 'Sudan', 'Chad', 'Haiti',\n",
       "       'Dominican Rep.', 'Russia', 'Bahamas', 'Falkland Is.', 'Norway',\n",
       "       'Greenland', 'Fr. S. Antarctic Lands', 'Timor-Leste',\n",
       "       'South Africa', 'Lesotho', 'Mexico', 'Uruguay', 'Brazil',\n",
       "       'Bolivia', 'Peru', 'Colombia', 'Panama', 'Costa Rica', 'Nicaragua',\n",
       "       'Honduras', 'El Salvador', 'Guatemala', 'Belize', 'Venezuela',\n",
       "       'Guyana', 'Suriname', 'France', 'Ecuador', 'Puerto Rico',\n",
       "       'Jamaica', 'Cuba', 'Zimbabwe', 'Botswana', 'Namibia', 'Senegal',\n",
       "       'Mali', 'Mauritania', 'Benin', 'Niger', 'Nigeria', 'Cameroon',\n",
       "       'Togo', 'Ghana', \"Côte d'Ivoire\", 'Guinea', 'Guinea-Bissau',\n",
       "       'Liberia', 'Sierra Leone', 'Burkina Faso', 'Central African Rep.',\n",
       "       'Congo', 'Gabon', 'Eq. Guinea', 'Zambia', 'Malawi', 'Mozambique',\n",
       "       'eSwatini', 'Angola', 'Burundi', 'Israel', 'Lebanon', 'Madagascar',\n",
       "       'Palestine', 'Gambia', 'Tunisia', 'Algeria', 'Jordan',\n",
       "       'United Arab Emirates', 'Qatar', 'Kuwait', 'Iraq', 'Oman',\n",
       "       'Vanuatu', 'Cambodia', 'Thailand', 'Laos', 'Myanmar', 'Vietnam',\n",
       "       'North Korea', 'South Korea', 'Mongolia', 'India', 'Bangladesh',\n",
       "       'Bhutan', 'Nepal', 'Pakistan', 'Afghanistan', 'Tajikistan',\n",
       "       'Kyrgyzstan', 'Turkmenistan', 'Iran', 'Syria', 'Armenia', 'Sweden',\n",
       "       'Belarus', 'Ukraine', 'Poland', 'Austria', 'Hungary', 'Moldova',\n",
       "       'Romania', 'Lithuania', 'Latvia', 'Estonia', 'Germany', 'Bulgaria',\n",
       "       'Greece', 'Turkey', 'Albania', 'Croatia', 'Switzerland',\n",
       "       'Luxembourg', 'Belgium', 'Netherlands', 'Portugal', 'Spain',\n",
       "       'Ireland', 'New Caledonia', 'Solomon Is.', 'New Zealand',\n",
       "       'Australia', 'Sri Lanka', 'China', 'Taiwan', 'Italy', 'Denmark',\n",
       "       'United Kingdom', 'Iceland', 'Azerbaijan', 'Georgia',\n",
       "       'Philippines', 'Malaysia', 'Brunei', 'Slovenia', 'Finland',\n",
       "       'Slovakia', 'Czechia', 'Eritrea', 'Japan', 'Paraguay', 'Yemen',\n",
       "       'Saudi Arabia', 'Antarctica', 'N. Cyprus', 'Cyprus', 'Morocco',\n",
       "       'Egypt', 'Libya', 'Ethiopia', 'Djibouti', 'Somaliland', 'Uganda',\n",
       "       'Rwanda', 'Bosnia and Herz.', 'North Macedonia', 'Serbia',\n",
       "       'Montenegro', 'Kosovo', 'Trinidad and Tobago', 'S. Sudan'],\n",
       "      dtype=object)"
      ]
     },
     "execution_count": 7,
     "metadata": {},
     "output_type": "execute_result"
    }
   ],
   "source": [
    "countries = world['name'].unique()\n",
    "countries"
   ]
  },
  {
   "cell_type": "code",
   "execution_count": 8,
   "id": "ffc541b9-49d5-4d16-b87e-ec432d8a2225",
   "metadata": {},
   "outputs": [
    {
     "data": {
      "text/plain": [
       "Country/Region/World\n",
       "Afghanistan    0.084134\n",
       "Albania        0.082539\n",
       "Algeria        0.104837\n",
       "Andorra        0.091193\n",
       "Angola         0.056218\n",
       "                 ...   \n",
       "Venezuela      0.087728\n",
       "Viet Nam       0.048873\n",
       "Yemen          0.077063\n",
       "Zambia         0.042306\n",
       "Zimbabwe       0.046172\n",
       "Name: Crude diabetes prevalence, Length: 195, dtype: float64"
      ]
     },
     "execution_count": 8,
     "metadata": {},
     "output_type": "execute_result"
    }
   ],
   "source": [
    "mean_world = country_data.groupby('Country/Region/World')['Crude diabetes prevalence'].mean()\n",
    "mean_world"
   ]
  },
  {
   "cell_type": "code",
   "execution_count": 9,
   "id": "b0830e77-ab4e-437a-978a-a78b310c98ef",
   "metadata": {},
   "outputs": [],
   "source": [
    "bins = [(2, 5), (5, 8), (8, 11), (11, 14), (14, 17)]\n",
    "\n",
    "lower_bounds = [interval[0] for interval in bins]\n",
    "upper_bounds = [interval[1] for interval in bins]\n",
    "\n",
    "cut_data = pd.cut(mean_world * 100, bins=pd.IntervalIndex.from_tuples(bins), right=False)\n",
    "bin_counts = cut_data.value_counts().sort_index()"
   ]
  },
  {
   "cell_type": "code",
   "execution_count": 10,
   "id": "f4d56820-f532-4126-bec8-6de6c866217e",
   "metadata": {},
   "outputs": [
    {
     "data": {
      "text/plain": [
       "<BarContainer object of 5 artists>"
      ]
     },
     "execution_count": 10,
     "metadata": {},
     "output_type": "execute_result"
    }
   ],
   "source": [
    "plt.bar(bin_counts.index.astype(str), bin_counts.values)"
   ]
  },
  {
   "cell_type": "code",
   "execution_count": 11,
   "id": "15466dc8-ec3c-4943-a55f-cb25c96022f7",
   "metadata": {},
   "outputs": [
    {
     "data": {
      "text/html": [
       "<svg  width=\"275\" height=\"55\"><rect x=\"0\" y=\"0\" width=\"55\" height=\"55\" style=\"fill:#fdd4c2;stroke-width:2;stroke:rgb(255,255,255)\"/><rect x=\"55\" y=\"0\" width=\"55\" height=\"55\" style=\"fill:#fca082;stroke-width:2;stroke:rgb(255,255,255)\"/><rect x=\"110\" y=\"0\" width=\"55\" height=\"55\" style=\"fill:#fb694a;stroke-width:2;stroke:rgb(255,255,255)\"/><rect x=\"165\" y=\"0\" width=\"55\" height=\"55\" style=\"fill:#e32f27;stroke-width:2;stroke:rgb(255,255,255)\"/><rect x=\"220\" y=\"0\" width=\"55\" height=\"55\" style=\"fill:#b11218;stroke-width:2;stroke:rgb(255,255,255)\"/></svg>"
      ],
      "text/plain": [
       "[(0.9935870818915802, 0.8323414071510957, 0.7624913494809689),\n",
       " (0.9882352941176471, 0.6261437908496732, 0.5084967320261438),\n",
       " (0.9835755478662053, 0.4127950788158401, 0.28835063437139563),\n",
       " (0.8901960784313725, 0.18562091503267975, 0.15294117647058825),\n",
       " (0.6943944636678201, 0.07003460207612457, 0.09231833910034601)]"
      ]
     },
     "execution_count": 11,
     "metadata": {},
     "output_type": "execute_result"
    }
   ],
   "source": [
    "colors = sns.color_palette(\"Reds\", len(bins))\n",
    "colors"
   ]
  },
  {
   "cell_type": "code",
   "execution_count": 12,
   "id": "e91b03d1-68fb-4e1f-8d66-dd0c434211ee",
   "metadata": {},
   "outputs": [
    {
     "name": "stdout",
     "output_type": "stream",
     "text": [
      "(2, 5] (0.9935870818915802, 0.8323414071510957, 0.7624913494809689)\n",
      "(5, 8] (0.9882352941176471, 0.6261437908496732, 0.5084967320261438)\n",
      "(8, 11] (0.9835755478662053, 0.4127950788158401, 0.28835063437139563)\n",
      "(11, 14] (0.8901960784313725, 0.18562091503267975, 0.15294117647058825)\n",
      "(14, 17] (0.6943944636678201, 0.07003460207612457, 0.09231833910034601)\n"
     ]
    }
   ],
   "source": [
    "for (bin_label, color) in list(zip(cut_data.cat.categories, colors)):\n",
    "    print(bin_label, color)"
   ]
  },
  {
   "cell_type": "code",
   "execution_count": 13,
   "id": "818f55d7-bd70-48b7-a76a-0c3d889a4c5b",
   "metadata": {},
   "outputs": [
    {
     "data": {
      "text/plain": [
       "Country/Region/World\n",
       "Afghanistan    (8, 11]\n",
       "Albania        (8, 11]\n",
       "Algeria        (8, 11]\n",
       "Andorra        (8, 11]\n",
       "Angola          (5, 8]\n",
       "                ...   \n",
       "Venezuela      (8, 11]\n",
       "Viet Nam        (2, 5]\n",
       "Yemen           (5, 8]\n",
       "Zambia          (2, 5]\n",
       "Zimbabwe        (2, 5]\n",
       "Name: Crude diabetes prevalence, Length: 195, dtype: category\n",
       "Categories (5, interval[int64, right]): [(2, 5] < (5, 8] < (8, 11] < (11, 14] < (14, 17]]"
      ]
     },
     "execution_count": 13,
     "metadata": {},
     "output_type": "execute_result"
    }
   ],
   "source": [
    "cut_data"
   ]
  },
  {
   "cell_type": "code",
   "execution_count": 14,
   "id": "2898085c-2e05-4ac3-8fe8-ff29e24d4070",
   "metadata": {},
   "outputs": [],
   "source": [
    "category_colors = dict(zip(cut_data.cat.categories, colors))\n",
    "\n",
    "category_colors = {category: color for category, color in zip(cut_data.cat.categories, colors)}\n",
    "category_colors[np.nan] = 'grey'"
   ]
  },
  {
   "cell_type": "code",
   "execution_count": 15,
   "id": "87b5913e-d84c-43e5-b9d4-0e1f142f9ec4",
   "metadata": {},
   "outputs": [],
   "source": [
    "fig, ax = plt.subplots(figsize=(6.75, 4))\n",
    "patches = []\n",
    "\n",
    "for country, category in zip(countries, cut_data):\n",
    "    color = category_colors[category]\n",
    "\n",
    "    if not country == 'None':\n",
    "        selected_country = world[world[\"name\"] == country]\n",
    "        selected_country.plot(ax=ax, color=color, alpha=1, edgecolor='k', linewidth=0.5)\n",
    "    else:\n",
    "        selected_country = world[world[\"name\"] == country]\n",
    "        selected_country.plot(ax=ax, color='w', alpha=1, edgecolor='w', linewidth=0.0)\n",
    "\n",
    "for bin_label, color in zip(cut_data.cat.categories, colors):\n",
    "    patch = mpatches.Patch(color=color, label=f\"{bin_label.left}-{bin_label.right}%\")\n",
    "    patches.append(patch)\n",
    "\n",
    "patches.append(mpatches.Patch(color='grey', label='Немає даних'))\n",
    "\n",
    "ax.legend(handles=patches, loc=\"center left\", fontsize=5)\n",
    "legend = ax.get_legend()\n",
    "legend.get_frame().set_edgecolor('k')\n",
    "legend.get_frame().set_facecolor('lightyellow')\n",
    "\n",
    "ax.set_xticks([])\n",
    "ax.set_yticks([])\n",
    "\n",
    "ax.set_aspect('auto')\n",
    "\n",
    "#plt.savefig(\"figures/world_map.png\", dpi=200)\n",
    "#plt.savefig(\"figures/world_map.pgf\")"
   ]
  },
  {
   "cell_type": "code",
   "execution_count": 16,
   "id": "5ab82d5f-6dbe-406d-9abc-7ac2d3e64e04",
   "metadata": {},
   "outputs": [
    {
     "data": {
      "text/plain": [
       "IntervalIndex([(2, 5], (5, 8], (8, 11], (11, 14], (14, 17]], dtype='interval[int64, right]')"
      ]
     },
     "execution_count": 16,
     "metadata": {},
     "output_type": "execute_result"
    }
   ],
   "source": [
    "cut_data.cat.categories"
   ]
  },
  {
   "cell_type": "code",
   "execution_count": 17,
   "id": "20dcf741-f53a-4074-9549-7f81ec57fa9d",
   "metadata": {},
   "outputs": [],
   "source": [
    "db_rate_world = pd.read_csv(\"data/NCD_RisC_Lancet_2016_DM_age_standardised_world.csv\")\n",
    "db_rate_countries = pd.read_csv(\"data/NCD_RisC_Lancet_2016_DM_crude_countries.csv\")"
   ]
  },
  {
   "cell_type": "code",
   "execution_count": 18,
   "id": "83891324-477d-424b-9ed7-2b4bf50d55e4",
   "metadata": {},
   "outputs": [
    {
     "data": {
      "text/html": [
       "<div>\n",
       "<style scoped>\n",
       "    .dataframe tbody tr th:only-of-type {\n",
       "        vertical-align: middle;\n",
       "    }\n",
       "\n",
       "    .dataframe tbody tr th {\n",
       "        vertical-align: top;\n",
       "    }\n",
       "\n",
       "    .dataframe thead th {\n",
       "        text-align: right;\n",
       "    }\n",
       "</style>\n",
       "<table border=\"1\" class=\"dataframe\">\n",
       "  <thead>\n",
       "    <tr style=\"text-align: right;\">\n",
       "      <th></th>\n",
       "      <th>Country/Region/World</th>\n",
       "      <th>ISO</th>\n",
       "      <th>Sex</th>\n",
       "      <th>Year</th>\n",
       "      <th>Age-standardised diabetes prevalence</th>\n",
       "      <th>Lower 95% uncertainty interval</th>\n",
       "      <th>Upper 95% uncertainty interval</th>\n",
       "    </tr>\n",
       "  </thead>\n",
       "  <tbody>\n",
       "    <tr>\n",
       "      <th>0</th>\n",
       "      <td>World</td>\n",
       "      <td>NaN</td>\n",
       "      <td>Men</td>\n",
       "      <td>1980</td>\n",
       "      <td>0.042908</td>\n",
       "      <td>0.024496</td>\n",
       "      <td>0.069721</td>\n",
       "    </tr>\n",
       "    <tr>\n",
       "      <th>1</th>\n",
       "      <td>World</td>\n",
       "      <td>NaN</td>\n",
       "      <td>Men</td>\n",
       "      <td>1981</td>\n",
       "      <td>0.043659</td>\n",
       "      <td>0.025654</td>\n",
       "      <td>0.069430</td>\n",
       "    </tr>\n",
       "    <tr>\n",
       "      <th>2</th>\n",
       "      <td>World</td>\n",
       "      <td>NaN</td>\n",
       "      <td>Men</td>\n",
       "      <td>1982</td>\n",
       "      <td>0.044468</td>\n",
       "      <td>0.026977</td>\n",
       "      <td>0.069323</td>\n",
       "    </tr>\n",
       "    <tr>\n",
       "      <th>3</th>\n",
       "      <td>World</td>\n",
       "      <td>NaN</td>\n",
       "      <td>Men</td>\n",
       "      <td>1983</td>\n",
       "      <td>0.045343</td>\n",
       "      <td>0.028151</td>\n",
       "      <td>0.069163</td>\n",
       "    </tr>\n",
       "    <tr>\n",
       "      <th>4</th>\n",
       "      <td>World</td>\n",
       "      <td>NaN</td>\n",
       "      <td>Men</td>\n",
       "      <td>1984</td>\n",
       "      <td>0.046285</td>\n",
       "      <td>0.029518</td>\n",
       "      <td>0.069173</td>\n",
       "    </tr>\n",
       "  </tbody>\n",
       "</table>\n",
       "</div>"
      ],
      "text/plain": [
       "  Country/Region/World  ISO  Sex  Year  Age-standardised diabetes prevalence  \\\n",
       "0                World  NaN  Men  1980                              0.042908   \n",
       "1                World  NaN  Men  1981                              0.043659   \n",
       "2                World  NaN  Men  1982                              0.044468   \n",
       "3                World  NaN  Men  1983                              0.045343   \n",
       "4                World  NaN  Men  1984                              0.046285   \n",
       "\n",
       "   Lower 95% uncertainty interval  Upper 95% uncertainty interval  \n",
       "0                        0.024496                        0.069721  \n",
       "1                        0.025654                        0.069430  \n",
       "2                        0.026977                        0.069323  \n",
       "3                        0.028151                        0.069163  \n",
       "4                        0.029518                        0.069173  "
      ]
     },
     "execution_count": 18,
     "metadata": {},
     "output_type": "execute_result"
    }
   ],
   "source": [
    "db_rate_world[db_rate_world['Sex'] == 'Men'].head()"
   ]
  },
  {
   "cell_type": "code",
   "execution_count": 19,
   "id": "024bac30-ee2e-44ea-987b-dfbf55ed2fc2",
   "metadata": {},
   "outputs": [
    {
     "data": {
      "text/plain": [
       "<BarContainer object of 70 artists>"
      ]
     },
     "execution_count": 19,
     "metadata": {},
     "output_type": "execute_result"
    }
   ],
   "source": [
    "years = db_rate_world['Year']\n",
    "prevalence = db_rate_world['Age-standardised diabetes prevalence']\n",
    "\n",
    "plt.figure(figsize=(10, 6))\n",
    "plt.bar(years, prevalence * 100, capsize=5, color='skyblue', alpha=0.7)"
   ]
  },
  {
   "cell_type": "code",
   "execution_count": 20,
   "id": "d090db18-8d9e-4d28-8ab6-a3332a6b93d8",
   "metadata": {},
   "outputs": [
    {
     "data": {
      "text/html": [
       "<div>\n",
       "<style scoped>\n",
       "    .dataframe tbody tr th:only-of-type {\n",
       "        vertical-align: middle;\n",
       "    }\n",
       "\n",
       "    .dataframe tbody tr th {\n",
       "        vertical-align: top;\n",
       "    }\n",
       "\n",
       "    .dataframe thead th {\n",
       "        text-align: right;\n",
       "    }\n",
       "</style>\n",
       "<table border=\"1\" class=\"dataframe\">\n",
       "  <thead>\n",
       "    <tr style=\"text-align: right;\">\n",
       "      <th></th>\n",
       "      <th>Year</th>\n",
       "      <th>Sex</th>\n",
       "      <th>prevalence</th>\n",
       "      <th>lw</th>\n",
       "      <th>up</th>\n",
       "    </tr>\n",
       "  </thead>\n",
       "  <tbody>\n",
       "    <tr>\n",
       "      <th>0</th>\n",
       "      <td>1980</td>\n",
       "      <td>Men</td>\n",
       "      <td>0.042908</td>\n",
       "      <td>0.024496</td>\n",
       "      <td>0.069721</td>\n",
       "    </tr>\n",
       "    <tr>\n",
       "      <th>1</th>\n",
       "      <td>1981</td>\n",
       "      <td>Men</td>\n",
       "      <td>0.043659</td>\n",
       "      <td>0.025654</td>\n",
       "      <td>0.069430</td>\n",
       "    </tr>\n",
       "    <tr>\n",
       "      <th>2</th>\n",
       "      <td>1982</td>\n",
       "      <td>Men</td>\n",
       "      <td>0.044468</td>\n",
       "      <td>0.026977</td>\n",
       "      <td>0.069323</td>\n",
       "    </tr>\n",
       "    <tr>\n",
       "      <th>3</th>\n",
       "      <td>1983</td>\n",
       "      <td>Men</td>\n",
       "      <td>0.045343</td>\n",
       "      <td>0.028151</td>\n",
       "      <td>0.069163</td>\n",
       "    </tr>\n",
       "    <tr>\n",
       "      <th>4</th>\n",
       "      <td>1984</td>\n",
       "      <td>Men</td>\n",
       "      <td>0.046285</td>\n",
       "      <td>0.029518</td>\n",
       "      <td>0.069173</td>\n",
       "    </tr>\n",
       "    <tr>\n",
       "      <th>...</th>\n",
       "      <td>...</td>\n",
       "      <td>...</td>\n",
       "      <td>...</td>\n",
       "      <td>...</td>\n",
       "      <td>...</td>\n",
       "    </tr>\n",
       "    <tr>\n",
       "      <th>65</th>\n",
       "      <td>2010</td>\n",
       "      <td>Women</td>\n",
       "      <td>0.075282</td>\n",
       "      <td>0.064805</td>\n",
       "      <td>0.087254</td>\n",
       "    </tr>\n",
       "    <tr>\n",
       "      <th>66</th>\n",
       "      <td>2011</td>\n",
       "      <td>Women</td>\n",
       "      <td>0.076280</td>\n",
       "      <td>0.064862</td>\n",
       "      <td>0.089451</td>\n",
       "    </tr>\n",
       "    <tr>\n",
       "      <th>67</th>\n",
       "      <td>2012</td>\n",
       "      <td>Women</td>\n",
       "      <td>0.077314</td>\n",
       "      <td>0.064802</td>\n",
       "      <td>0.091749</td>\n",
       "    </tr>\n",
       "    <tr>\n",
       "      <th>68</th>\n",
       "      <td>2013</td>\n",
       "      <td>Women</td>\n",
       "      <td>0.078378</td>\n",
       "      <td>0.064575</td>\n",
       "      <td>0.094422</td>\n",
       "    </tr>\n",
       "    <tr>\n",
       "      <th>69</th>\n",
       "      <td>2014</td>\n",
       "      <td>Women</td>\n",
       "      <td>0.079487</td>\n",
       "      <td>0.064432</td>\n",
       "      <td>0.096958</td>\n",
       "    </tr>\n",
       "  </tbody>\n",
       "</table>\n",
       "<p>70 rows × 5 columns</p>\n",
       "</div>"
      ],
      "text/plain": [
       "    Year    Sex  prevalence        lw        up\n",
       "0   1980    Men    0.042908  0.024496  0.069721\n",
       "1   1981    Men    0.043659  0.025654  0.069430\n",
       "2   1982    Men    0.044468  0.026977  0.069323\n",
       "3   1983    Men    0.045343  0.028151  0.069163\n",
       "4   1984    Men    0.046285  0.029518  0.069173\n",
       "..   ...    ...         ...       ...       ...\n",
       "65  2010  Women    0.075282  0.064805  0.087254\n",
       "66  2011  Women    0.076280  0.064862  0.089451\n",
       "67  2012  Women    0.077314  0.064802  0.091749\n",
       "68  2013  Women    0.078378  0.064575  0.094422\n",
       "69  2014  Women    0.079487  0.064432  0.096958\n",
       "\n",
       "[70 rows x 5 columns]"
      ]
     },
     "execution_count": 20,
     "metadata": {},
     "output_type": "execute_result"
    }
   ],
   "source": [
    "prevalence_world = db_rate_world[['Year', \n",
    "                                  'Sex', \n",
    "                                  'Age-standardised diabetes prevalence', \n",
    "                                  'Lower 95% uncertainty interval', \n",
    "                                  'Upper 95% uncertainty interval']]\n",
    "prevalence_world = prevalence_world.rename(columns={\n",
    "    'Age-standardised diabetes prevalence': 'prevalence',\n",
    "    'Lower 95% uncertainty interval': \"lw\",\n",
    "    'Upper 95% uncertainty interval': 'up'\n",
    "})\n",
    "prevalence_world"
   ]
  },
  {
   "cell_type": "code",
   "execution_count": 21,
   "id": "69c08b45-501d-49eb-be37-a06665eb38ad",
   "metadata": {},
   "outputs": [
    {
     "data": {
      "text/html": [
       "<div>\n",
       "<style scoped>\n",
       "    .dataframe tbody tr th:only-of-type {\n",
       "        vertical-align: middle;\n",
       "    }\n",
       "\n",
       "    .dataframe tbody tr th {\n",
       "        vertical-align: top;\n",
       "    }\n",
       "\n",
       "    .dataframe thead th {\n",
       "        text-align: right;\n",
       "    }\n",
       "</style>\n",
       "<table border=\"1\" class=\"dataframe\">\n",
       "  <thead>\n",
       "    <tr style=\"text-align: right;\">\n",
       "      <th></th>\n",
       "      <th>Country</th>\n",
       "      <th>Year</th>\n",
       "      <th>Sex</th>\n",
       "      <th>prevalence</th>\n",
       "    </tr>\n",
       "  </thead>\n",
       "  <tbody>\n",
       "    <tr>\n",
       "      <th>6405</th>\n",
       "      <td>Ukraine</td>\n",
       "      <td>1980</td>\n",
       "      <td>Men</td>\n",
       "      <td>0.047458</td>\n",
       "    </tr>\n",
       "    <tr>\n",
       "      <th>6406</th>\n",
       "      <td>Ukraine</td>\n",
       "      <td>1981</td>\n",
       "      <td>Men</td>\n",
       "      <td>0.048172</td>\n",
       "    </tr>\n",
       "    <tr>\n",
       "      <th>6407</th>\n",
       "      <td>Ukraine</td>\n",
       "      <td>1982</td>\n",
       "      <td>Men</td>\n",
       "      <td>0.048961</td>\n",
       "    </tr>\n",
       "    <tr>\n",
       "      <th>6408</th>\n",
       "      <td>Ukraine</td>\n",
       "      <td>1983</td>\n",
       "      <td>Men</td>\n",
       "      <td>0.049830</td>\n",
       "    </tr>\n",
       "    <tr>\n",
       "      <th>6409</th>\n",
       "      <td>Ukraine</td>\n",
       "      <td>1984</td>\n",
       "      <td>Men</td>\n",
       "      <td>0.050797</td>\n",
       "    </tr>\n",
       "    <tr>\n",
       "      <th>...</th>\n",
       "      <td>...</td>\n",
       "      <td>...</td>\n",
       "      <td>...</td>\n",
       "      <td>...</td>\n",
       "    </tr>\n",
       "    <tr>\n",
       "      <th>13260</th>\n",
       "      <td>Ukraine</td>\n",
       "      <td>2010</td>\n",
       "      <td>Women</td>\n",
       "      <td>0.093888</td>\n",
       "    </tr>\n",
       "    <tr>\n",
       "      <th>13261</th>\n",
       "      <td>Ukraine</td>\n",
       "      <td>2011</td>\n",
       "      <td>Women</td>\n",
       "      <td>0.094578</td>\n",
       "    </tr>\n",
       "    <tr>\n",
       "      <th>13262</th>\n",
       "      <td>Ukraine</td>\n",
       "      <td>2012</td>\n",
       "      <td>Women</td>\n",
       "      <td>0.095281</td>\n",
       "    </tr>\n",
       "    <tr>\n",
       "      <th>13263</th>\n",
       "      <td>Ukraine</td>\n",
       "      <td>2013</td>\n",
       "      <td>Women</td>\n",
       "      <td>0.096098</td>\n",
       "    </tr>\n",
       "    <tr>\n",
       "      <th>13264</th>\n",
       "      <td>Ukraine</td>\n",
       "      <td>2014</td>\n",
       "      <td>Women</td>\n",
       "      <td>0.097014</td>\n",
       "    </tr>\n",
       "  </tbody>\n",
       "</table>\n",
       "<p>70 rows × 4 columns</p>\n",
       "</div>"
      ],
      "text/plain": [
       "       Country  Year    Sex  prevalence\n",
       "6405   Ukraine  1980    Men    0.047458\n",
       "6406   Ukraine  1981    Men    0.048172\n",
       "6407   Ukraine  1982    Men    0.048961\n",
       "6408   Ukraine  1983    Men    0.049830\n",
       "6409   Ukraine  1984    Men    0.050797\n",
       "...        ...   ...    ...         ...\n",
       "13260  Ukraine  2010  Women    0.093888\n",
       "13261  Ukraine  2011  Women    0.094578\n",
       "13262  Ukraine  2012  Women    0.095281\n",
       "13263  Ukraine  2013  Women    0.096098\n",
       "13264  Ukraine  2014  Women    0.097014\n",
       "\n",
       "[70 rows x 4 columns]"
      ]
     },
     "execution_count": 21,
     "metadata": {},
     "output_type": "execute_result"
    }
   ],
   "source": [
    "prevalence_ukraine = db_rate_countries[db_rate_countries['Country/Region/World'] == 'Ukraine']\n",
    "prevalence_ukraine = prevalence_ukraine[['Country/Region/World', 'Year', 'Sex', 'Crude diabetes prevalence']]\n",
    "prevalence_ukraine = prevalence_ukraine.rename(columns={\n",
    "    'Country/Region/World': 'Country',\n",
    "    'Crude diabetes prevalence': 'prevalence'\n",
    "})\n",
    "prevalence_ukraine"
   ]
  },
  {
   "cell_type": "code",
   "execution_count": 22,
   "id": "43c24271-8c25-43df-862c-e60cb8cee22a",
   "metadata": {},
   "outputs": [
    {
     "data": {
      "text/plain": [
       "Text(0, 0.5, 'Розповсюдженність %')"
      ]
     },
     "execution_count": 22,
     "metadata": {},
     "output_type": "execute_result"
    }
   ],
   "source": [
    "prevalence_world_men = prevalence_world[prevalence_world['Sex'] == 'Men']\n",
    "prevalence_world_women = prevalence_world[prevalence_world['Sex'] == 'Women']\n",
    "\n",
    "prevalence_ukraine_men = prevalence_ukraine[prevalence_ukraine['Sex'] == 'Men']\n",
    "prevalence_ukraine_women = prevalence_ukraine[prevalence_ukraine['Sex'] == 'Women']\n",
    "\n",
    "fig, axs = plt.subplots(1, 2, figsize=(6.75, 2.5))\n",
    "axs[0].plot(prevalence_world_men['Year'], prevalence_world_men['prevalence'] * 100, \n",
    "         marker='o', markersize=3, label='Чоловіки', markerfacecolor='w')\n",
    "axs[0].plot(prevalence_world_women['Year'], prevalence_world_women['prevalence'] * 100, \n",
    "         marker='o', markersize=3, label='Жінки', markerfacecolor='w')\n",
    "\n",
    "axs[0].legend(loc='lower right')\n",
    "axs[0].set_xlabel(\"Роки\")\n",
    "axs[0].set_ylabel(\"Розповсюдженність %\")\n",
    "\n",
    "axs[1].plot(prevalence_ukraine_men['Year'], prevalence_ukraine_men['prevalence'] * 100, \n",
    "         marker='o', markersize=3, label='Чоловіки', markerfacecolor='w')\n",
    "axs[1].plot(prevalence_ukraine_women['Year'], prevalence_ukraine_women['prevalence'] * 100, \n",
    "         marker='o', markersize=3, label='Жінки', markerfacecolor='w')\n",
    "\n",
    "axs[1].legend()\n",
    "axs[1].set_xlabel(\"Роки\")\n",
    "axs[1].set_ylabel(\"Розповсюдженність %\")"
   ]
  },
  {
   "cell_type": "code",
   "execution_count": null,
   "id": "a5c0627d-be81-4b2c-b41a-24149501de35",
   "metadata": {},
   "outputs": [],
   "source": []
  }
 ],
 "metadata": {
  "kernelspec": {
   "display_name": "Python 3 (ipykernel)",
   "language": "python",
   "name": "python3"
  },
  "language_info": {
   "codemirror_mode": {
    "name": "ipython",
    "version": 3
   },
   "file_extension": ".py",
   "mimetype": "text/x-python",
   "name": "python",
   "nbconvert_exporter": "python",
   "pygments_lexer": "ipython3",
   "version": "3.11.4"
  }
 },
 "nbformat": 4,
 "nbformat_minor": 5
}
